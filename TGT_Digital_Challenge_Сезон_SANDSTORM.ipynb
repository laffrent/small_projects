{
  "cells": [
    {
      "cell_type": "code",
      "source": [
        "!pip install tsfel\n",
        "!pip install catboost\n",
        "!pip install optuna\n",
        "!pip install shap"
      ],
      "metadata": {
        "id": "3OKH528exTwD"
      },
      "execution_count": null,
      "outputs": []
    },
    {
      "cell_type": "code",
      "execution_count": null,
      "metadata": {
        "id": "HKKCh_vvJIMb"
      },
      "outputs": [],
      "source": [
        "import pandas as pd\n",
        "import numpy as np\n",
        "\n",
        "pd.set_option('display.max_rows', 250)\n",
        "pd.set_option('display.max_columns', 250)\n",
        "pd.set_option('display.width', 1000)\n",
        "\n",
        "import math\n",
        "\n",
        "from scipy.fft import fft, fftfreq, fftshift\n",
        "\n",
        "import tsfel\n",
        "\n",
        "from tqdm import tqdm\n",
        "\n",
        "import matplotlib.pyplot as plt\n",
        "import seaborn as sns\n",
        "\n",
        "from catboost import CatBoostRegressor, CatBoostClassifier\n",
        "\n",
        "from scipy.stats import hmean\n",
        "from scipy.stats import gmean\n",
        "from scipy.stats import sem \n",
        "from scipy.signal import wiener \n",
        "from scipy.stats import iqr\n",
        "from scipy.stats import differential_entropy\n",
        "from scipy.stats import median_abs_deviation\n",
        "\n",
        "from sklearn.metrics import f1_score\n",
        "\n",
        "from sklearn.model_selection import RandomizedSearchCV\n",
        "from sklearn.model_selection import train_test_split\n",
        "from sklearn.pipeline import make_pipeline\n",
        "from sklearn.pipeline import Pipeline\n",
        "from sklearn.utils import shuffle\n",
        "\n",
        "import statsmodels.api as sm\n",
        "import warnings\n",
        "warnings.filterwarnings('ignore')"
      ]
    },
    {
      "cell_type": "code",
      "execution_count": null,
      "metadata": {
        "id": "kHyWfZvCJPs-"
      },
      "outputs": [],
      "source": [
        "df = pd.read_csv('/content/train.csv')\n",
        "df = round(df, 3) # best2\n",
        "df = df.fillna(0) # without tsfel so so..."
      ]
    },
    {
      "cell_type": "code",
      "execution_count": null,
      "metadata": {
        "id": "fd4dXHflmSJy"
      },
      "outputs": [],
      "source": [
        "cfg = tsfel.get_features_by_domain()"
      ]
    },
    {
      "cell_type": "code",
      "source": [
        "dfx = pd.DataFrame()\n",
        "dfx = pd.DataFrame(columns=tsfel.time_series_features_extractor(cfg, df.drop('label', axis=1).loc[0].values, verbose=0).columns)"
      ],
      "metadata": {
        "id": "j3Z5TVcVL6OS"
      },
      "execution_count": null,
      "outputs": []
    },
    {
      "cell_type": "code",
      "source": [
        "for i in tqdm(range(df.shape[0])):\n",
        "    tem = tsfel.time_series_features_extractor(cfg, df.drop('label', axis=1).loc[i].values, verbose=0) # , fs=300, fs=300, fs=117400, default = 1\n",
        "    dfx.loc[i] = tem.loc[0]"
      ],
      "metadata": {
        "colab": {
          "base_uri": "https://localhost:8080/"
        },
        "id": "4idAkhhfLvsA",
        "outputId": "e7b143a2-1524-4974-ad18-643651191657"
      },
      "execution_count": null,
      "outputs": [
        {
          "output_type": "stream",
          "name": "stderr",
          "text": [
            "100%|██████████| 3792/3792 [04:50<00:00, 13.06it/s]\n"
          ]
        }
      ]
    },
    {
      "cell_type": "code",
      "source": [
        "dfx.info()"
      ],
      "metadata": {
        "colab": {
          "base_uri": "https://localhost:8080/"
        },
        "id": "Eqxod60FMI_e",
        "outputId": "ecc7d023-be10-4048-e67e-0f8e16e550b4"
      },
      "execution_count": null,
      "outputs": [
        {
          "output_type": "stream",
          "name": "stdout",
          "text": [
            "<class 'pandas.core.frame.DataFrame'>\n",
            "Index: 3792 entries, 0 to 3791\n",
            "Columns: 285 entries, 0_FFT mean coefficient_0 to label\n",
            "dtypes: float64(284), int64(1)\n",
            "memory usage: 8.3 MB\n"
          ]
        }
      ]
    },
    {
      "cell_type": "code",
      "execution_count": null,
      "metadata": {
        "id": "uwxjbbLXKtZ9"
      },
      "outputs": [],
      "source": [
        "def feat_ing(train_df):\n",
        "    only_dat = train_df.columns[train_df.columns.str.contains(\"data_\")]\n",
        "    else_dat = train_df.columns[~train_df.columns.str.contains(\"data_\")]\n",
        "    \n",
        "    train_df['mean'] = train_df[only_dat].mean(axis=1, skipna=True)\n",
        "    train_df['max'] = train_df[only_dat].max(axis=1, skipna=True)\n",
        "    train_df['min'] = train_df[only_dat].min(axis=1, skipna=True)\n",
        "    train_df['median'] = train_df[only_dat].median(axis=1, skipna=True)\n",
        "    train_df['sum'] = train_df[only_dat].sum(axis=1, skipna=True)\n",
        "    train_df['std'] = train_df[only_dat].std(axis=1, skipna=True)\n",
        "    train_df['sem'] = train_df[only_dat].sem(axis=1, skipna=True) # standard error of the mean\n",
        "    train_df['skew'] = train_df[only_dat].skew(axis=1, skipna=True) # unibias skewness\n",
        "    train_df['var'] = train_df[only_dat].var(axis=1, skipna=True) # variance (expectation of the squared deviation)\n",
        "\n",
        "    train_df['gt_015_sum'] = train_df[only_dat].gt(0.15, axis=1).sum(axis=1) # Get Greater than of dataframe and other\n",
        "\n",
        "    train_df['dif_ent'] = train_df[only_dat].apply(lambda x: differential_entropy(x.dropna()), axis=1)\n",
        "    train_df['hmean'] = train_df[only_dat].apply(lambda x: hmean(abs(x+0.0000001), nan_policy='omit'), axis=1) # weighted harmonic mean\n",
        "    train_df['gmean'] = train_df[only_dat].apply(lambda x: gmean(abs(x.dropna()+0.0000001)), axis=1) # weighted geometric mean\n",
        "    train_df['iqr'] = train_df[only_dat].apply(lambda x: iqr(x.dropna()), axis=1) # difference between the 75th and 25th percentile of the data\n",
        "    train_df['sem'] = train_df[only_dat].apply(lambda x: sem(x.dropna()), axis=1) # standard error of the mean\n",
        "    train_df['wiener'] = train_df[only_dat].apply(lambda x: wiener(x.dropna()).mean(), axis=1) # a Wiener filter, to test (wiener - orig)\n",
        "\n",
        "    train_df['iqr_05_95'] = train_df[only_dat].apply(lambda x: iqr(x.dropna(), rng=(5, 95)), axis=1) # difference between the 5th and 95th percentile of the data\n",
        "    train_df['iqr_10_90'] = train_df[only_dat].apply(lambda x: iqr(x.dropna(), rng=(10, 90)), axis=1)\n",
        "    train_df['iqr_15_85'] = train_df[only_dat].apply(lambda x: iqr(x.dropna(), rng=(15, 85)), axis=1)\n",
        "    train_df['iqr_20_80'] = train_df[only_dat].apply(lambda x: iqr(x.dropna(), rng=(20, 80)), axis=1)\n",
        "    train_df['iqr_30_70'] = train_df[only_dat].apply(lambda x: iqr(x.dropna(), rng=(30, 70)), axis=1)\n",
        "    train_df['iqr_35_65'] = train_df[only_dat].apply(lambda x: iqr(x.dropna(), rng=(35, 65)), axis=1)    \n",
        "    train_df['iqr_40_60'] = train_df[only_dat].apply(lambda x: iqr(x.dropna(), rng=(40, 60)), axis=1)\n",
        "    train_df['iqr_45_65'] = train_df[only_dat].apply(lambda x: iqr(x.dropna(), rng=(45, 65)), axis=1)\n",
        "\n",
        "    train_df['q15'] = train_df[only_dat].apply(lambda x: x.quantile(q=0.15), axis=1) #value at the given quantile\n",
        "    train_df['q45'] = train_df[only_dat].apply(lambda x: x.quantile(q=0.45), axis=1)\n",
        "    train_df['q75'] = train_df[only_dat].apply(lambda x: x.quantile(q=0.75), axis=1)\n",
        "\n",
        "    train_df['fur_85'] = train_df[only_dat].apply(lambda x: (np.absolute(pd.Series(fft(x.fillna(0).values)).quantile(q=0.85))), axis=1)\n",
        "    train_df['fur_75'] = train_df[only_dat].apply(lambda x: (np.absolute(pd.Series(fft(x.fillna(0).values)).quantile(q=0.75))), axis=1)  \n",
        "    train_df['fur_95'] = train_df[only_dat].apply(lambda x: (np.absolute(pd.Series(fft(x.fillna(0).values)).quantile(q=0.95))), axis=1) \n",
        "\n",
        "    train_df['fur_max'] = train_df[only_dat].apply(lambda x: (np.absolute(pd.Series(fft(x.fillna(0).values)).max())), axis=1)  \n",
        "    train_df['fur_med'] = train_df[only_dat].apply(lambda x: (np.absolute(pd.Series(fft(x.fillna(0).values)).median())), axis=1)  \n",
        "\n",
        "    train_df['fur_05_95'] = train_df[only_dat].apply(lambda x: iqr((np.absolute(pd.Series(fft(x.fillna(0).values)))), rng=(5, 95)), axis=1)\n",
        "    train_df['fur_10_90'] = train_df[only_dat].apply(lambda x: iqr((np.absolute(pd.Series(fft(x.fillna(0).values)))), rng=(10, 90)), axis=1)\n",
        "    train_df['fur_15_85'] = train_df[only_dat].apply(lambda x: iqr((np.absolute(pd.Series(fft(x.fillna(0).values)))), rng=(15, 85)), axis=1)\n",
        "    train_df['fur_20_80'] = train_df[only_dat].apply(lambda x: iqr((np.absolute(pd.Series(fft(x.fillna(0).values)))), rng=(20, 80)), axis=1)\n",
        "    train_df['fur_25_75'] = train_df[only_dat].apply(lambda x: iqr((np.absolute(pd.Series(fft(x.fillna(0).values)))), rng=(25, 75)), axis=1)\n",
        "    train_df['fur_30_70'] = train_df[only_dat].apply(lambda x: iqr((np.absolute(pd.Series(fft(x.fillna(0).values)))), rng=(30, 70)), axis=1)\n",
        "    train_df['fur_35_65'] = train_df[only_dat].apply(lambda x: iqr((np.absolute(pd.Series(fft(x.fillna(0).values)))), rng=(35, 65)), axis=1)\n",
        "    train_df['fur_40_60'] = train_df[only_dat].apply(lambda x: iqr((np.absolute(pd.Series(fft(x.fillna(0).values)))), rng=(40, 60)), axis=1)\n",
        "    train_df['fur_45_65'] = train_df[only_dat].apply(lambda x: iqr((np.absolute(pd.Series(fft(x.fillna(0).values)))), rng=(45, 55)), axis=1)\n",
        "\n",
        "    diff_df = train_df[only_dat].diff(axis=1)\n",
        "    diff_df['mean_dif'] = diff_df[only_dat].mean(axis=1, skipna=True)\n",
        "    diff_df['max_dif'] = diff_df[only_dat].max(axis=1, skipna=True)\n",
        "    diff_df['min_dif'] = diff_df[only_dat].min(axis=1, skipna=True)\n",
        "    diff_df['median_dif'] = diff_df[only_dat].median(axis=1, skipna=True)\n",
        "    diff_df['sum_dif'] = diff_df[only_dat].sum(axis=1, skipna=True)\n",
        "    diff_df['std_dif'] = diff_df[only_dat].std(axis=1, skipna=True)\n",
        "    diff_df['std_sem'] = diff_df[only_dat].sem(axis=1, skipna=True)\n",
        "    diff_df['std_skew'] = diff_df[only_dat].skew(axis=1, skipna=True)\n",
        "    diff_df['std_var'] = diff_df[only_dat].var(axis=1, skipna=True)\n",
        "\n",
        "    diff_df['iqr_15_85'] = diff_df[only_dat].apply(lambda x: iqr(x.dropna(), rng=(15, 85)), axis=1)\n",
        "    diff_df['iqr_35_65'] = diff_df[only_dat].apply(lambda x: iqr(x.dropna(), rng=(35, 65)), axis=1)\n",
        "\n",
        "\n",
        "    diff_df = diff_df.drop(only_dat, axis=1)\n",
        "    train_df = train_df.join(diff_df, rsuffix='diff')\n",
        "    return train_df"
      ]
    },
    {
      "cell_type": "code",
      "execution_count": null,
      "metadata": {
        "id": "FMsbhjpnKuQ_"
      },
      "outputs": [],
      "source": [
        "feat_df = feat_ing(df)"
      ]
    },
    {
      "cell_type": "code",
      "execution_count": null,
      "metadata": {
        "id": "Oo8LR9nBRIqR"
      },
      "outputs": [],
      "source": [
        "only_dat = feat_df.columns[feat_df.columns.str.contains(\"data_\")]\n",
        "else_dat = feat_df.columns[~feat_df.columns.str.contains(\"data_\")]"
      ]
    },
    {
      "cell_type": "code",
      "source": [
        "ev_th = feat_df[else_dat].drop('label', axis=1).merge(dfx, left_index=True, right_index=True)"
      ],
      "metadata": {
        "id": "CcVxl0pplPhK"
      },
      "execution_count": null,
      "outputs": []
    },
    {
      "cell_type": "code",
      "execution_count": null,
      "metadata": {
        "id": "RRTZQZxkR72A",
        "colab": {
          "base_uri": "https://localhost:8080/"
        },
        "outputId": "1a991bac-ac82-46e6-ebd3-62ba6f9ffcbd"
      },
      "outputs": [
        {
          "output_type": "execute_result",
          "data": {
            "text/plain": [
              "((3033, 335), (759, 335), (3033,), (759,))"
            ]
          },
          "metadata": {},
          "execution_count": 13
        }
      ],
      "source": [
        "X, y = ev_th.drop(['label'], axis=1), ev_th['label']\n",
        "\n",
        "X_train, X_test, y_train, y_test = train_test_split(\n",
        "    X, y, \n",
        "    test_size=0.2, \n",
        "    random_state=47, \n",
        "    stratify=y, \n",
        "    shuffle=True)\n",
        "\n",
        "X_train.shape, X_test.shape, y_train.shape, y_test.shape"
      ]
    },
    {
      "cell_type": "code",
      "execution_count": null,
      "metadata": {
        "id": "joNoKYORRbtC"
      },
      "outputs": [],
      "source": [
        "pipe = Pipeline(\n",
        "    [\n",
        "        (\"regressor\", CatBoostClassifier())\n",
        "    ]\n",
        ")\n",
        "\n",
        "param_grid = [ \n",
        "    {\n",
        "        'regressor': [CatBoostClassifier(\n",
        "            random_state=47, \n",
        "            eval_metric='F1',\n",
        "            silent=True,\n",
        "            early_stopping_rounds=80,\n",
        "            )\n",
        "            ],\n",
        "    },\n",
        "]\n",
        "\n",
        "grid = RandomizedSearchCV(pipe, param_grid, n_iter=1, cv=5, scoring = 'f1', verbose=3, random_state=47)"
      ]
    },
    {
      "cell_type": "code",
      "execution_count": null,
      "metadata": {
        "id": "Lolp3sIFR1v6",
        "colab": {
          "base_uri": "https://localhost:8080/",
          "height": 261
        },
        "outputId": "fa3c74b0-a2ba-49b1-9b53-7980e5f4a634"
      },
      "outputs": [
        {
          "output_type": "stream",
          "name": "stdout",
          "text": [
            "Fitting 5 folds for each of 1 candidates, totalling 5 fits\n",
            "[CV 1/5] END regressor=<catboost.core.CatBoostClassifier object at 0x7f15301f3670>;, score=0.919 total time= 1.4min\n",
            "[CV 2/5] END regressor=<catboost.core.CatBoostClassifier object at 0x7f15301f3670>;, score=0.940 total time= 1.4min\n",
            "[CV 3/5] END regressor=<catboost.core.CatBoostClassifier object at 0x7f15301f3670>;, score=0.937 total time= 1.5min\n",
            "[CV 4/5] END regressor=<catboost.core.CatBoostClassifier object at 0x7f15301f3670>;, score=0.912 total time= 1.4min\n",
            "[CV 5/5] END regressor=<catboost.core.CatBoostClassifier object at 0x7f15301f3670>;, score=0.952 total time= 1.4min\n",
            "CPU times: user 13min 55s, sys: 8.18 s, total: 14min 3s\n",
            "Wall time: 8min 45s\n"
          ]
        },
        {
          "output_type": "execute_result",
          "data": {
            "text/plain": [
              "RandomizedSearchCV(cv=5,\n",
              "                   estimator=Pipeline(steps=[('regressor',\n",
              "                                              <catboost.core.CatBoostRegressor object at 0x7f15301f3a90>)]),\n",
              "                   n_iter=1,\n",
              "                   param_distributions=[{'regressor': [<catboost.core.CatBoostClassifier object at 0x7f15301f3670>]}],\n",
              "                   random_state=47, scoring='f1', verbose=3)"
            ],
            "text/html": [
              "<style>#sk-container-id-1 {color: black;background-color: white;}#sk-container-id-1 pre{padding: 0;}#sk-container-id-1 div.sk-toggleable {background-color: white;}#sk-container-id-1 label.sk-toggleable__label {cursor: pointer;display: block;width: 100%;margin-bottom: 0;padding: 0.3em;box-sizing: border-box;text-align: center;}#sk-container-id-1 label.sk-toggleable__label-arrow:before {content: \"▸\";float: left;margin-right: 0.25em;color: #696969;}#sk-container-id-1 label.sk-toggleable__label-arrow:hover:before {color: black;}#sk-container-id-1 div.sk-estimator:hover label.sk-toggleable__label-arrow:before {color: black;}#sk-container-id-1 div.sk-toggleable__content {max-height: 0;max-width: 0;overflow: hidden;text-align: left;background-color: #f0f8ff;}#sk-container-id-1 div.sk-toggleable__content pre {margin: 0.2em;color: black;border-radius: 0.25em;background-color: #f0f8ff;}#sk-container-id-1 input.sk-toggleable__control:checked~div.sk-toggleable__content {max-height: 200px;max-width: 100%;overflow: auto;}#sk-container-id-1 input.sk-toggleable__control:checked~label.sk-toggleable__label-arrow:before {content: \"▾\";}#sk-container-id-1 div.sk-estimator input.sk-toggleable__control:checked~label.sk-toggleable__label {background-color: #d4ebff;}#sk-container-id-1 div.sk-label input.sk-toggleable__control:checked~label.sk-toggleable__label {background-color: #d4ebff;}#sk-container-id-1 input.sk-hidden--visually {border: 0;clip: rect(1px 1px 1px 1px);clip: rect(1px, 1px, 1px, 1px);height: 1px;margin: -1px;overflow: hidden;padding: 0;position: absolute;width: 1px;}#sk-container-id-1 div.sk-estimator {font-family: monospace;background-color: #f0f8ff;border: 1px dotted black;border-radius: 0.25em;box-sizing: border-box;margin-bottom: 0.5em;}#sk-container-id-1 div.sk-estimator:hover {background-color: #d4ebff;}#sk-container-id-1 div.sk-parallel-item::after {content: \"\";width: 100%;border-bottom: 1px solid gray;flex-grow: 1;}#sk-container-id-1 div.sk-label:hover label.sk-toggleable__label {background-color: #d4ebff;}#sk-container-id-1 div.sk-serial::before {content: \"\";position: absolute;border-left: 1px solid gray;box-sizing: border-box;top: 0;bottom: 0;left: 50%;z-index: 0;}#sk-container-id-1 div.sk-serial {display: flex;flex-direction: column;align-items: center;background-color: white;padding-right: 0.2em;padding-left: 0.2em;position: relative;}#sk-container-id-1 div.sk-item {position: relative;z-index: 1;}#sk-container-id-1 div.sk-parallel {display: flex;align-items: stretch;justify-content: center;background-color: white;position: relative;}#sk-container-id-1 div.sk-item::before, #sk-container-id-1 div.sk-parallel-item::before {content: \"\";position: absolute;border-left: 1px solid gray;box-sizing: border-box;top: 0;bottom: 0;left: 50%;z-index: -1;}#sk-container-id-1 div.sk-parallel-item {display: flex;flex-direction: column;z-index: 1;position: relative;background-color: white;}#sk-container-id-1 div.sk-parallel-item:first-child::after {align-self: flex-end;width: 50%;}#sk-container-id-1 div.sk-parallel-item:last-child::after {align-self: flex-start;width: 50%;}#sk-container-id-1 div.sk-parallel-item:only-child::after {width: 0;}#sk-container-id-1 div.sk-dashed-wrapped {border: 1px dashed gray;margin: 0 0.4em 0.5em 0.4em;box-sizing: border-box;padding-bottom: 0.4em;background-color: white;}#sk-container-id-1 div.sk-label label {font-family: monospace;font-weight: bold;display: inline-block;line-height: 1.2em;}#sk-container-id-1 div.sk-label-container {text-align: center;}#sk-container-id-1 div.sk-container {/* jupyter's `normalize.less` sets `[hidden] { display: none; }` but bootstrap.min.css set `[hidden] { display: none !important; }` so we also need the `!important` here to be able to override the default hidden behavior on the sphinx rendered scikit-learn.org. See: https://github.com/scikit-learn/scikit-learn/issues/21755 */display: inline-block !important;position: relative;}#sk-container-id-1 div.sk-text-repr-fallback {display: none;}</style><div id=\"sk-container-id-1\" class=\"sk-top-container\"><div class=\"sk-text-repr-fallback\"><pre>RandomizedSearchCV(cv=5,\n",
              "                   estimator=Pipeline(steps=[(&#x27;regressor&#x27;,\n",
              "                                              &lt;catboost.core.CatBoostRegressor object at 0x7f15301f3a90&gt;)]),\n",
              "                   n_iter=1,\n",
              "                   param_distributions=[{&#x27;regressor&#x27;: [&lt;catboost.core.CatBoostClassifier object at 0x7f15301f3670&gt;]}],\n",
              "                   random_state=47, scoring=&#x27;f1&#x27;, verbose=3)</pre><b>In a Jupyter environment, please rerun this cell to show the HTML representation or trust the notebook. <br />On GitHub, the HTML representation is unable to render, please try loading this page with nbviewer.org.</b></div><div class=\"sk-container\" hidden><div class=\"sk-item sk-dashed-wrapped\"><div class=\"sk-label-container\"><div class=\"sk-label sk-toggleable\"><input class=\"sk-toggleable__control sk-hidden--visually\" id=\"sk-estimator-id-1\" type=\"checkbox\" ><label for=\"sk-estimator-id-1\" class=\"sk-toggleable__label sk-toggleable__label-arrow\">RandomizedSearchCV</label><div class=\"sk-toggleable__content\"><pre>RandomizedSearchCV(cv=5,\n",
              "                   estimator=Pipeline(steps=[(&#x27;regressor&#x27;,\n",
              "                                              &lt;catboost.core.CatBoostRegressor object at 0x7f15301f3a90&gt;)]),\n",
              "                   n_iter=1,\n",
              "                   param_distributions=[{&#x27;regressor&#x27;: [&lt;catboost.core.CatBoostClassifier object at 0x7f15301f3670&gt;]}],\n",
              "                   random_state=47, scoring=&#x27;f1&#x27;, verbose=3)</pre></div></div></div><div class=\"sk-parallel\"><div class=\"sk-parallel-item\"><div class=\"sk-item\"><div class=\"sk-label-container\"><div class=\"sk-label sk-toggleable\"><input class=\"sk-toggleable__control sk-hidden--visually\" id=\"sk-estimator-id-2\" type=\"checkbox\" ><label for=\"sk-estimator-id-2\" class=\"sk-toggleable__label sk-toggleable__label-arrow\">estimator: Pipeline</label><div class=\"sk-toggleable__content\"><pre>Pipeline(steps=[(&#x27;regressor&#x27;,\n",
              "                 &lt;catboost.core.CatBoostRegressor object at 0x7f15301f3a90&gt;)])</pre></div></div></div><div class=\"sk-serial\"><div class=\"sk-item\"><div class=\"sk-serial\"><div class=\"sk-item\"><div class=\"sk-estimator sk-toggleable\"><input class=\"sk-toggleable__control sk-hidden--visually\" id=\"sk-estimator-id-3\" type=\"checkbox\" ><label for=\"sk-estimator-id-3\" class=\"sk-toggleable__label sk-toggleable__label-arrow\">CatBoostRegressor</label><div class=\"sk-toggleable__content\"><pre>&lt;catboost.core.CatBoostRegressor object at 0x7f15301f3a90&gt;</pre></div></div></div></div></div></div></div></div></div></div></div></div>"
            ]
          },
          "metadata": {},
          "execution_count": 15
        }
      ],
      "source": [
        "%%time\n",
        "grid.fit(X_train, y_train)"
      ]
    },
    {
      "cell_type": "code",
      "source": [
        "result = pd.DataFrame(grid.cv_results_)\n",
        "result = result.sort_values('mean_test_score', ascending=False)\n",
        "result"
      ],
      "metadata": {
        "id": "zTfUL_0aE9cp",
        "colab": {
          "base_uri": "https://localhost:8080/",
          "height": 162
        },
        "outputId": "1fbd5936-1e9b-40c5-da9d-8567b6ee196c"
      },
      "execution_count": null,
      "outputs": [
        {
          "output_type": "execute_result",
          "data": {
            "text/plain": [
              "   mean_fit_time  std_fit_time  mean_score_time  std_score_time                                    param_regressor                                             params  split0_test_score  split1_test_score  split2_test_score  split3_test_score  split4_test_score  mean_test_score  std_test_score  rank_test_score\n",
              "0       86.19494      0.653257         0.062342        0.070441  <catboost.core.CatBoostClassifier object at 0x...  {'regressor': <catboost.core.CatBoostClassifie...           0.918699           0.939891           0.936937           0.912442           0.951872         0.931968        0.014429                1"
            ],
            "text/html": [
              "\n",
              "  <div id=\"df-b4153bd9-dd87-408e-94c6-80b87779a644\">\n",
              "    <div class=\"colab-df-container\">\n",
              "      <div>\n",
              "<style scoped>\n",
              "    .dataframe tbody tr th:only-of-type {\n",
              "        vertical-align: middle;\n",
              "    }\n",
              "\n",
              "    .dataframe tbody tr th {\n",
              "        vertical-align: top;\n",
              "    }\n",
              "\n",
              "    .dataframe thead th {\n",
              "        text-align: right;\n",
              "    }\n",
              "</style>\n",
              "<table border=\"1\" class=\"dataframe\">\n",
              "  <thead>\n",
              "    <tr style=\"text-align: right;\">\n",
              "      <th></th>\n",
              "      <th>mean_fit_time</th>\n",
              "      <th>std_fit_time</th>\n",
              "      <th>mean_score_time</th>\n",
              "      <th>std_score_time</th>\n",
              "      <th>param_regressor</th>\n",
              "      <th>params</th>\n",
              "      <th>split0_test_score</th>\n",
              "      <th>split1_test_score</th>\n",
              "      <th>split2_test_score</th>\n",
              "      <th>split3_test_score</th>\n",
              "      <th>split4_test_score</th>\n",
              "      <th>mean_test_score</th>\n",
              "      <th>std_test_score</th>\n",
              "      <th>rank_test_score</th>\n",
              "    </tr>\n",
              "  </thead>\n",
              "  <tbody>\n",
              "    <tr>\n",
              "      <th>0</th>\n",
              "      <td>86.19494</td>\n",
              "      <td>0.653257</td>\n",
              "      <td>0.062342</td>\n",
              "      <td>0.070441</td>\n",
              "      <td>&lt;catboost.core.CatBoostClassifier object at 0x...</td>\n",
              "      <td>{'regressor': &lt;catboost.core.CatBoostClassifie...</td>\n",
              "      <td>0.918699</td>\n",
              "      <td>0.939891</td>\n",
              "      <td>0.936937</td>\n",
              "      <td>0.912442</td>\n",
              "      <td>0.951872</td>\n",
              "      <td>0.931968</td>\n",
              "      <td>0.014429</td>\n",
              "      <td>1</td>\n",
              "    </tr>\n",
              "  </tbody>\n",
              "</table>\n",
              "</div>\n",
              "      <button class=\"colab-df-convert\" onclick=\"convertToInteractive('df-b4153bd9-dd87-408e-94c6-80b87779a644')\"\n",
              "              title=\"Convert this dataframe to an interactive table.\"\n",
              "              style=\"display:none;\">\n",
              "        \n",
              "  <svg xmlns=\"http://www.w3.org/2000/svg\" height=\"24px\"viewBox=\"0 0 24 24\"\n",
              "       width=\"24px\">\n",
              "    <path d=\"M0 0h24v24H0V0z\" fill=\"none\"/>\n",
              "    <path d=\"M18.56 5.44l.94 2.06.94-2.06 2.06-.94-2.06-.94-.94-2.06-.94 2.06-2.06.94zm-11 1L8.5 8.5l.94-2.06 2.06-.94-2.06-.94L8.5 2.5l-.94 2.06-2.06.94zm10 10l.94 2.06.94-2.06 2.06-.94-2.06-.94-.94-2.06-.94 2.06-2.06.94z\"/><path d=\"M17.41 7.96l-1.37-1.37c-.4-.4-.92-.59-1.43-.59-.52 0-1.04.2-1.43.59L10.3 9.45l-7.72 7.72c-.78.78-.78 2.05 0 2.83L4 21.41c.39.39.9.59 1.41.59.51 0 1.02-.2 1.41-.59l7.78-7.78 2.81-2.81c.8-.78.8-2.07 0-2.86zM5.41 20L4 18.59l7.72-7.72 1.47 1.35L5.41 20z\"/>\n",
              "  </svg>\n",
              "      </button>\n",
              "      \n",
              "  <style>\n",
              "    .colab-df-container {\n",
              "      display:flex;\n",
              "      flex-wrap:wrap;\n",
              "      gap: 12px;\n",
              "    }\n",
              "\n",
              "    .colab-df-convert {\n",
              "      background-color: #E8F0FE;\n",
              "      border: none;\n",
              "      border-radius: 50%;\n",
              "      cursor: pointer;\n",
              "      display: none;\n",
              "      fill: #1967D2;\n",
              "      height: 32px;\n",
              "      padding: 0 0 0 0;\n",
              "      width: 32px;\n",
              "    }\n",
              "\n",
              "    .colab-df-convert:hover {\n",
              "      background-color: #E2EBFA;\n",
              "      box-shadow: 0px 1px 2px rgba(60, 64, 67, 0.3), 0px 1px 3px 1px rgba(60, 64, 67, 0.15);\n",
              "      fill: #174EA6;\n",
              "    }\n",
              "\n",
              "    [theme=dark] .colab-df-convert {\n",
              "      background-color: #3B4455;\n",
              "      fill: #D2E3FC;\n",
              "    }\n",
              "\n",
              "    [theme=dark] .colab-df-convert:hover {\n",
              "      background-color: #434B5C;\n",
              "      box-shadow: 0px 1px 3px 1px rgba(0, 0, 0, 0.15);\n",
              "      filter: drop-shadow(0px 1px 2px rgba(0, 0, 0, 0.3));\n",
              "      fill: #FFFFFF;\n",
              "    }\n",
              "  </style>\n",
              "\n",
              "      <script>\n",
              "        const buttonEl =\n",
              "          document.querySelector('#df-b4153bd9-dd87-408e-94c6-80b87779a644 button.colab-df-convert');\n",
              "        buttonEl.style.display =\n",
              "          google.colab.kernel.accessAllowed ? 'block' : 'none';\n",
              "\n",
              "        async function convertToInteractive(key) {\n",
              "          const element = document.querySelector('#df-b4153bd9-dd87-408e-94c6-80b87779a644');\n",
              "          const dataTable =\n",
              "            await google.colab.kernel.invokeFunction('convertToInteractive',\n",
              "                                                     [key], {});\n",
              "          if (!dataTable) return;\n",
              "\n",
              "          const docLinkHtml = 'Like what you see? Visit the ' +\n",
              "            '<a target=\"_blank\" href=https://colab.research.google.com/notebooks/data_table.ipynb>data table notebook</a>'\n",
              "            + ' to learn more about interactive tables.';\n",
              "          element.innerHTML = '';\n",
              "          dataTable['output_type'] = 'display_data';\n",
              "          await google.colab.output.renderOutput(dataTable, element);\n",
              "          const docLink = document.createElement('div');\n",
              "          docLink.innerHTML = docLinkHtml;\n",
              "          element.appendChild(docLink);\n",
              "        }\n",
              "      </script>\n",
              "    </div>\n",
              "  </div>\n",
              "  "
            ]
          },
          "metadata": {},
          "execution_count": 26
        }
      ]
    },
    {
      "cell_type": "code",
      "source": [
        "y_pred = grid.predict(X_test)\n",
        "f1_score(y_test, y_pred)"
      ],
      "metadata": {
        "id": "EgAGGpL-pcFv",
        "colab": {
          "base_uri": "https://localhost:8080/"
        },
        "outputId": "e22f2e93-bffc-481f-a6b6-86a1bc23bd45"
      },
      "execution_count": null,
      "outputs": [
        {
          "output_type": "execute_result",
          "data": {
            "text/plain": [
              "0.9696969696969696"
            ]
          },
          "metadata": {},
          "execution_count": 17
        }
      ]
    },
    {
      "cell_type": "code",
      "execution_count": null,
      "metadata": {
        "id": "aPFFVZgNhvBR",
        "colab": {
          "base_uri": "https://localhost:8080/"
        },
        "outputId": "21dd9006-7567-464a-bc8f-1d9e45f69764"
      },
      "outputs": [
        {
          "output_type": "stream",
          "name": "stdout",
          "text": [
            "<class 'pandas.core.frame.DataFrame'>\n",
            "RangeIndex: 450 entries, 0 to 449\n",
            "Columns: 300 entries, data_1 to data_300\n",
            "dtypes: float64(300)\n",
            "memory usage: 1.0 MB\n"
          ]
        }
      ],
      "source": [
        "test_df = pd.read_csv(\"test.csv\")\n",
        "test_df = round(test_df, 3)\n",
        "test_df = test_df.fillna(0)\n",
        "test_df.info()"
      ]
    },
    {
      "cell_type": "code",
      "source": [
        "test_fx = pd.DataFrame(columns=tsfel.time_series_features_extractor(cfg, test_df.loc[0].values, verbose=0).columns)"
      ],
      "metadata": {
        "id": "ADJdSZz8dB18"
      },
      "execution_count": null,
      "outputs": []
    },
    {
      "cell_type": "code",
      "source": [
        "for i in tqdm(range(test_df.shape[0])):\n",
        "    tem_ts = tsfel.time_series_features_extractor(cfg, test_df.loc[i].values, verbose=0)\n",
        "    test_fx.loc[i] = tem_ts.loc[0]"
      ],
      "metadata": {
        "id": "3fHoSE5ueANs",
        "colab": {
          "base_uri": "https://localhost:8080/"
        },
        "outputId": "733fa844-e91f-40aa-cf77-af5168194ba8"
      },
      "execution_count": null,
      "outputs": [
        {
          "output_type": "stream",
          "name": "stderr",
          "text": [
            "100%|██████████| 450/450 [00:33<00:00, 13.47it/s]\n"
          ]
        }
      ]
    },
    {
      "cell_type": "code",
      "execution_count": null,
      "metadata": {
        "id": "LzbM_T1shwQy",
        "colab": {
          "base_uri": "https://localhost:8080/"
        },
        "outputId": "65b39143-6ded-44c6-ee06-1b0b2bd2fefc"
      },
      "outputs": [
        {
          "output_type": "stream",
          "name": "stdout",
          "text": [
            "<class 'pandas.core.frame.DataFrame'>\n",
            "RangeIndex: 450 entries, 0 to 449\n",
            "Columns: 351 entries, data_1 to iqr_35_65diff\n",
            "dtypes: float64(350), int64(1)\n",
            "memory usage: 1.2 MB\n"
          ]
        }
      ],
      "source": [
        "test_df_feat = feat_ing(test_df)\n",
        "test_df_feat.info()"
      ]
    },
    {
      "cell_type": "code",
      "source": [
        "ev_th_test = test_df_feat[else_dat.drop('label')].merge(test_fx, left_index=True, right_index=True)"
      ],
      "metadata": {
        "id": "j8iGyByigldu"
      },
      "execution_count": null,
      "outputs": []
    },
    {
      "cell_type": "code",
      "source": [
        "predicted_label = grid.predict(ev_th_test)"
      ],
      "metadata": {
        "id": "PzgQBlr8eAJ9"
      },
      "execution_count": null,
      "outputs": []
    },
    {
      "cell_type": "code",
      "execution_count": null,
      "metadata": {
        "id": "Jp06Pzh2BrTy",
        "colab": {
          "base_uri": "https://localhost:8080/"
        },
        "outputId": "599e5ea9-657f-4134-8ff6-e72f6549fb2a"
      },
      "outputs": [
        {
          "output_type": "execute_result",
          "data": {
            "text/plain": [
              "array([1, 1, 1, 1, 1, 1, 0, 0, 1, 1, 0, 1, 1, 0, 0, 0, 1, 1, 0, 0, 0, 0,\n",
              "       0, 1, 0, 0, 1, 0, 1, 0, 1, 1, 1, 1, 0, 1, 0, 1, 1, 0, 0, 1, 0, 0,\n",
              "       0, 0, 1, 1, 1, 1, 1, 1, 1, 1, 0, 1, 1, 0, 1, 1, 0, 1, 0, 1, 1, 1,\n",
              "       1, 0, 1, 0, 1, 1, 1, 1, 1, 0, 0, 0, 0, 1, 0, 1, 0, 0, 1, 0, 1, 0,\n",
              "       1, 0, 0, 0, 1, 0, 0, 0, 1, 1, 0, 0, 0, 0, 1, 1, 1, 0, 0, 1, 0, 1,\n",
              "       0, 1, 0, 0, 1, 0, 1, 1, 1, 1, 1, 0, 0, 1, 0, 0, 0, 1, 1, 0, 1, 1,\n",
              "       1, 0, 1, 1, 1, 1, 0, 0, 1, 0, 1, 1, 0, 0, 0, 1, 0, 1, 1, 0, 0, 0,\n",
              "       0, 0, 1, 1, 0, 1, 1, 1, 1, 0, 1, 0, 0, 0, 1, 0, 0, 0, 1, 1, 0, 1,\n",
              "       0, 1, 1, 1, 1, 0, 1, 0, 1, 1, 0, 1, 0, 0, 0, 0, 0, 0, 0, 1, 1, 1,\n",
              "       1, 1, 1, 0, 1, 1, 1, 1, 1, 1, 0, 0, 0, 0, 1, 0, 0, 1, 0, 0, 1, 1,\n",
              "       0, 0, 1, 0, 1, 0, 0, 0, 1, 0, 1, 0, 1, 1, 1, 1, 0, 0, 1, 1, 1, 1,\n",
              "       0, 1, 0, 1, 0, 1, 1, 0, 0, 1, 1, 0, 0, 1, 0, 0, 0, 1, 0, 1, 1, 0,\n",
              "       1, 0, 1, 1, 0, 0, 0, 1, 0, 0, 1, 0, 1, 1, 1, 1, 0, 0, 1, 1, 1, 1,\n",
              "       0, 0, 0, 0, 1, 0, 1, 0, 0, 1, 1, 0, 0, 0, 0, 0, 1, 0, 0, 1, 1, 0,\n",
              "       1, 0, 0, 0, 0, 1, 0, 0, 0, 1, 0, 1, 0, 0, 1, 0, 0, 0, 0, 0, 1, 1,\n",
              "       0, 1, 1, 0, 0, 1, 1, 1, 1, 0, 0, 1, 1, 1, 0, 1, 1, 0, 1, 1, 0, 0,\n",
              "       0, 0, 0, 0, 1, 0, 0, 1, 0, 1, 1, 0, 0, 0, 0, 1, 1, 1, 0, 0, 0, 1,\n",
              "       1, 0, 0, 0, 0, 0, 0, 0, 0, 1, 0, 0, 1, 1, 1, 1, 1, 1, 0, 0, 1, 1,\n",
              "       1, 1, 0, 0, 1, 1, 0, 0, 1, 1, 1, 0, 1, 0, 1, 0, 0, 0, 0, 1, 0, 0,\n",
              "       0, 1, 0, 0, 0, 1, 0, 1, 0, 0, 0, 1, 1, 0, 0, 0, 1, 0, 1, 0, 0, 1,\n",
              "       1, 0, 1, 1, 0, 1, 1, 1, 0, 1])"
            ]
          },
          "metadata": {},
          "execution_count": 24
        }
      ],
      "source": [
        "predicted_label"
      ]
    },
    {
      "cell_type": "code",
      "source": [
        "result_df = pd.DataFrame({\"label\":predicted_label})\n",
        "result_df.to_csv(\"submission.csv\", index=False) "
      ],
      "metadata": {
        "id": "d3tfjqtAs_fq"
      },
      "execution_count": null,
      "outputs": []
    }
  ],
  "metadata": {
    "colab": {
      "provenance": []
    },
    "gpuClass": "standard",
    "kernelspec": {
      "display_name": "Python 3",
      "name": "python3"
    },
    "language_info": {
      "name": "python"
    }
  },
  "nbformat": 4,
  "nbformat_minor": 0
}